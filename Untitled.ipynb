{
 "cells": [
  {
   "cell_type": "code",
   "execution_count": 8,
   "id": "f6c8718e",
   "metadata": {
    "scrolled": true
   },
   "outputs": [
    {
     "name": "stdout",
     "output_type": "stream",
     "text": [
      "Lorem Ipsum is simply dummy text of the printing and typesetting industry. Lorem Ipsum has been the industry's standard dummy text ever since the 1500s, when an unknown printer took a galley of type and scrambled it to make a type specimen book. It has survived not only five centuries, but also the leap into electronic typesetting, remaining essentially unchanged. It was popularised in the 1960s with the release of Letraset sheets containing Lorem Ipsum passages, and more recently with desktop publishing software like Aldus PageMaker including versions of Lorem Ipsum.\n"
     ]
    }
   ],
   "source": [
    "data = ''\n",
    "with open(\"data.txt\", \"r\") as file:\n",
    "    data = file.read()\n",
    "    \n",
    "    print(data)"
   ]
  },
  {
   "cell_type": "code",
   "execution_count": 9,
   "id": "31382a2f",
   "metadata": {
    "scrolled": true
   },
   "outputs": [
    {
     "name": "stdout",
     "output_type": "stream",
     "text": [
      "Lorem Ipsum is simply dummy text of the printing and typesetting industry. Lorem Ipsum has been the industry's standard dummy text ever since the 1500s, when an unknown printer took a galley of type and scrambled it to make a type specimen book. It has survived not only five centuries, but also the leap into electronic typesetting, remaining essentially unchanged. It was popularised in the 1960s with the release of Letraset sheets containing Lorem Ipsum passages, and more recently with desktop publishing software like Aldus PageMaker including versions of Lorem Ipsum.\n"
     ]
    }
   ],
   "source": [
    "print(data)"
   ]
  },
  {
   "cell_type": "code",
   "execution_count": 22,
   "id": "e0292a8d",
   "metadata": {},
   "outputs": [],
   "source": [
    "import pandas as pd\n",
    "import numpy  as np"
   ]
  },
  {
   "cell_type": "code",
   "execution_count": 12,
   "id": "4451efc3",
   "metadata": {},
   "outputs": [],
   "source": [
    "data = pd.read_csv(\"dados_tratados_oyster_card_2019.csv\")"
   ]
  },
  {
   "cell_type": "code",
   "execution_count": 13,
   "id": "243ebb48",
   "metadata": {},
   "outputs": [
    {
     "data": {
      "text/html": [
       "<div>\n",
       "<style scoped>\n",
       "    .dataframe tbody tr th:only-of-type {\n",
       "        vertical-align: middle;\n",
       "    }\n",
       "\n",
       "    .dataframe tbody tr th {\n",
       "        vertical-align: top;\n",
       "    }\n",
       "\n",
       "    .dataframe thead th {\n",
       "        text-align: right;\n",
       "    }\n",
       "</style>\n",
       "<table border=\"1\" class=\"dataframe\">\n",
       "  <thead>\n",
       "    <tr style=\"text-align: right;\">\n",
       "      <th></th>\n",
       "      <th>Unnamed: 0</th>\n",
       "      <th>DOWno</th>\n",
       "      <th>DOW</th>\n",
       "      <th>SubSystem</th>\n",
       "      <th>StartStn</th>\n",
       "      <th>EndStn</th>\n",
       "      <th>EntTime</th>\n",
       "      <th>ExTime</th>\n",
       "      <th>Zones</th>\n",
       "      <th>JourneyType</th>\n",
       "      <th>DailyCapping</th>\n",
       "      <th>FullFare</th>\n",
       "      <th>DiscountFare</th>\n",
       "      <th>FinalProduct</th>\n",
       "      <th>JourneyLength</th>\n",
       "    </tr>\n",
       "  </thead>\n",
       "  <tbody>\n",
       "    <tr>\n",
       "      <th>0</th>\n",
       "      <td>45989</td>\n",
       "      <td>2</td>\n",
       "      <td>Mon</td>\n",
       "      <td>LUL</td>\n",
       "      <td>Goodge Street</td>\n",
       "      <td>Totteridge</td>\n",
       "      <td>1000</td>\n",
       "      <td>1041</td>\n",
       "      <td>Z0110</td>\n",
       "      <td>TKT</td>\n",
       "      <td>N</td>\n",
       "      <td>0</td>\n",
       "      <td>0</td>\n",
       "      <td>Freedom Pass (Elderly)</td>\n",
       "      <td>41</td>\n",
       "    </tr>\n",
       "    <tr>\n",
       "      <th>1</th>\n",
       "      <td>45994</td>\n",
       "      <td>5</td>\n",
       "      <td>Thu</td>\n",
       "      <td>LUL</td>\n",
       "      <td>Preston Road</td>\n",
       "      <td>Northwood</td>\n",
       "      <td>1000</td>\n",
       "      <td>1024</td>\n",
       "      <td>Z0110</td>\n",
       "      <td>TKT</td>\n",
       "      <td>N</td>\n",
       "      <td>0</td>\n",
       "      <td>0</td>\n",
       "      <td>Freedom Pass (Disabled)</td>\n",
       "      <td>24</td>\n",
       "    </tr>\n",
       "    <tr>\n",
       "      <th>2</th>\n",
       "      <td>45998</td>\n",
       "      <td>5</td>\n",
       "      <td>Thu</td>\n",
       "      <td>LUL</td>\n",
       "      <td>Holborn</td>\n",
       "      <td>Bounds Green</td>\n",
       "      <td>1000</td>\n",
       "      <td>1028</td>\n",
       "      <td>Z0104</td>\n",
       "      <td>TKT</td>\n",
       "      <td>N</td>\n",
       "      <td>0</td>\n",
       "      <td>0</td>\n",
       "      <td>LUL Travelcard-Annual</td>\n",
       "      <td>28</td>\n",
       "    </tr>\n",
       "    <tr>\n",
       "      <th>3</th>\n",
       "      <td>46003</td>\n",
       "      <td>1</td>\n",
       "      <td>Sun</td>\n",
       "      <td>LUL</td>\n",
       "      <td>Earls Court</td>\n",
       "      <td>Pimlico</td>\n",
       "      <td>1000</td>\n",
       "      <td>1021</td>\n",
       "      <td>-------</td>\n",
       "      <td>PPY</td>\n",
       "      <td>N</td>\n",
       "      <td>160</td>\n",
       "      <td>160</td>\n",
       "      <td>PAYG</td>\n",
       "      <td>21</td>\n",
       "    </tr>\n",
       "    <tr>\n",
       "      <th>4</th>\n",
       "      <td>46005</td>\n",
       "      <td>3</td>\n",
       "      <td>Tue</td>\n",
       "      <td>LUL</td>\n",
       "      <td>Victoria</td>\n",
       "      <td>Bethnal Green</td>\n",
       "      <td>1000</td>\n",
       "      <td>1027</td>\n",
       "      <td>Z0102</td>\n",
       "      <td>TKT</td>\n",
       "      <td>N</td>\n",
       "      <td>0</td>\n",
       "      <td>0</td>\n",
       "      <td>LUL Travelcard-7 Day</td>\n",
       "      <td>27</td>\n",
       "    </tr>\n",
       "  </tbody>\n",
       "</table>\n",
       "</div>"
      ],
      "text/plain": [
       "   Unnamed: 0  DOWno  DOW SubSystem       StartStn         EndStn  EntTime  \\\n",
       "0       45989      2  Mon       LUL  Goodge Street     Totteridge     1000   \n",
       "1       45994      5  Thu       LUL   Preston Road      Northwood     1000   \n",
       "2       45998      5  Thu       LUL        Holborn   Bounds Green     1000   \n",
       "3       46003      1  Sun       LUL    Earls Court        Pimlico     1000   \n",
       "4       46005      3  Tue       LUL       Victoria  Bethnal Green     1000   \n",
       "\n",
       "   ExTime    Zones JourneyType DailyCapping  FullFare  DiscountFare  \\\n",
       "0    1041    Z0110         TKT            N         0             0   \n",
       "1    1024    Z0110         TKT            N         0             0   \n",
       "2    1028    Z0104         TKT            N         0             0   \n",
       "3    1021  -------         PPY            N       160           160   \n",
       "4    1027    Z0102         TKT            N         0             0   \n",
       "\n",
       "              FinalProduct  JourneyLength  \n",
       "0   Freedom Pass (Elderly)             41  \n",
       "1  Freedom Pass (Disabled)             24  \n",
       "2    LUL Travelcard-Annual             28  \n",
       "3                     PAYG             21  \n",
       "4     LUL Travelcard-7 Day             27  "
      ]
     },
     "execution_count": 13,
     "metadata": {},
     "output_type": "execute_result"
    }
   ],
   "source": [
    "data.head()"
   ]
  },
  {
   "cell_type": "code",
   "execution_count": 14,
   "id": "35c7883b",
   "metadata": {},
   "outputs": [],
   "source": [
    "data2 = data[[\"DOWno\", \"SubSystem\"]]"
   ]
  },
  {
   "cell_type": "code",
   "execution_count": 15,
   "id": "82761f3f",
   "metadata": {},
   "outputs": [
    {
     "data": {
      "text/html": [
       "<div>\n",
       "<style scoped>\n",
       "    .dataframe tbody tr th:only-of-type {\n",
       "        vertical-align: middle;\n",
       "    }\n",
       "\n",
       "    .dataframe tbody tr th {\n",
       "        vertical-align: top;\n",
       "    }\n",
       "\n",
       "    .dataframe thead th {\n",
       "        text-align: right;\n",
       "    }\n",
       "</style>\n",
       "<table border=\"1\" class=\"dataframe\">\n",
       "  <thead>\n",
       "    <tr style=\"text-align: right;\">\n",
       "      <th></th>\n",
       "      <th>DOWno</th>\n",
       "      <th>SubSystem</th>\n",
       "    </tr>\n",
       "  </thead>\n",
       "  <tbody>\n",
       "    <tr>\n",
       "      <th>0</th>\n",
       "      <td>2</td>\n",
       "      <td>LUL</td>\n",
       "    </tr>\n",
       "    <tr>\n",
       "      <th>1</th>\n",
       "      <td>5</td>\n",
       "      <td>LUL</td>\n",
       "    </tr>\n",
       "    <tr>\n",
       "      <th>2</th>\n",
       "      <td>5</td>\n",
       "      <td>LUL</td>\n",
       "    </tr>\n",
       "    <tr>\n",
       "      <th>3</th>\n",
       "      <td>1</td>\n",
       "      <td>LUL</td>\n",
       "    </tr>\n",
       "    <tr>\n",
       "      <th>4</th>\n",
       "      <td>3</td>\n",
       "      <td>LUL</td>\n",
       "    </tr>\n",
       "  </tbody>\n",
       "</table>\n",
       "</div>"
      ],
      "text/plain": [
       "   DOWno SubSystem\n",
       "0      2       LUL\n",
       "1      5       LUL\n",
       "2      5       LUL\n",
       "3      1       LUL\n",
       "4      3       LUL"
      ]
     },
     "execution_count": 15,
     "metadata": {},
     "output_type": "execute_result"
    }
   ],
   "source": [
    "data2.head()"
   ]
  },
  {
   "cell_type": "code",
   "execution_count": 19,
   "id": "c3c6a98a",
   "metadata": {},
   "outputs": [
    {
     "name": "stdout",
     "output_type": "stream",
     "text": [
      "2\n"
     ]
    }
   ],
   "source": [
    "#ix encontra-se obsoleto, seu uso foi substituido pelo .iloc\n",
    "print(data2.iloc[0,0])"
   ]
  },
  {
   "cell_type": "code",
   "execution_count": 23,
   "id": "43db814b",
   "metadata": {},
   "outputs": [],
   "source": [
    "y = np.array([1,1])\n"
   ]
  },
  {
   "cell_type": "code",
   "execution_count": 24,
   "id": "9da3dd37",
   "metadata": {},
   "outputs": [
    {
     "data": {
      "text/plain": [
       "array([2, 2])"
      ]
     },
     "execution_count": 24,
     "metadata": {},
     "output_type": "execute_result"
    }
   ],
   "source": [
    "2*y"
   ]
  },
  {
   "cell_type": "code",
   "execution_count": null,
   "id": "cc06ceae",
   "metadata": {},
   "outputs": [],
   "source": []
  }
 ],
 "metadata": {
  "kernelspec": {
   "display_name": "Python 3",
   "language": "python",
   "name": "python3"
  },
  "language_info": {
   "codemirror_mode": {
    "name": "ipython",
    "version": 3
   },
   "file_extension": ".py",
   "mimetype": "text/x-python",
   "name": "python",
   "nbconvert_exporter": "python",
   "pygments_lexer": "ipython3",
   "version": "3.8.8"
  }
 },
 "nbformat": 4,
 "nbformat_minor": 5
}
