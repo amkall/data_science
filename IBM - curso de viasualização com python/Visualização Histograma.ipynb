{
 "cells": [
  {
   "cell_type": "markdown",
   "id": "b4f0b30c",
   "metadata": {},
   "source": [
    "# Curso de visualização da IBM\n",
    "## Histograma"
   ]
  },
  {
   "cell_type": "code",
   "execution_count": 1,
   "id": "54460189",
   "metadata": {},
   "outputs": [],
   "source": [
    "from matplotlib import pyplot as plt\n",
    "import pandas as pd\n",
    "\n",
    "#serve para verificar setar um flag em uma figura, e fazer alterações dimamicamente enquanto a fihura estiver ativa\n",
    "#alem de permitir visualizar de atraves de interações com o mouse, salvar, da zoom etc.\n",
    "#%matplotlib notebook "
   ]
  },
  {
   "cell_type": "markdown",
   "id": "756a46f0",
   "metadata": {},
   "source": [
    "## Declarando o caminho e abrindo o arquivo .csv"
   ]
  },
  {
   "cell_type": "code",
   "execution_count": 2,
   "id": "6aa98135",
   "metadata": {
    "scrolled": true
   },
   "outputs": [],
   "source": [
    "caminho = 'C:/Users/Bruno Araujo Muniz/Desktop/data_science/dados_tratados_oyster_card_2019.csv'\n",
    "dados = pd.read_csv(caminho)"
   ]
  },
  {
   "cell_type": "markdown",
   "id": "2c289261",
   "metadata": {},
   "source": [
    "## Plotando o histograma de viagens com base nos dias da semana "
   ]
  },
  {
   "cell_type": "code",
   "execution_count": 5,
   "id": "520a824e",
   "metadata": {},
   "outputs": [
    {
     "data": {
      "image/png": "[encoded data removed]",
      "text/plain": [
       "<Figure size 432x288 with 1 Axes>"
      ]
     },
     "metadata": {
      "needs_background": "light"
     },
     "output_type": "display_data"
    }
   ],
   "source": [
    "dados.columns = ['id','DOWno','DOW','SubSystem', 'StartStn','EndStn', 'EntTime', 'ExTime', 'Zones', 'JourneyType', 'DailyCapping', 'FullFare', 'DiscountFare', 'FinalProduct', 'JourneyLength']\n",
    "\n",
    "dados2 = dados['DOWno']\n",
    "plt.hist(dados2)\n",
    "plt.plot()\n",
    "plt.show()"
   ]
  },
  {
   "cell_type": "code",
   "execution_count": 4,
   "id": "929422f6",
   "metadata": {},
   "outputs": [
    {
     "data": {
      "text/plain": [
       "<AxesSubplot:ylabel='Frequency'>"
      ]
     },
     "execution_count": 4,
     "metadata": {},
     "output_type": "execute_result"
    },
    {
     "data": {
      "image/png": "[encoded data removed]",
      "text/plain": [
       "<Figure size 432x288 with 1 Axes>"
      ]
     },
     "metadata": {
      "needs_background": "light"
     },
     "output_type": "display_data"
    }
   ],
   "source": [
    "#outra forma de gerar o histograma, mas so funciona com dados numericos \n",
    "#dados['DOWno'].plot(kind = \"hist\")"
   ]
  },
  {
   "cell_type": "code",
   "execution_count": null,
   "id": "22724608",
   "metadata": {},
   "outputs": [],
   "source": []
  },
  {
   "cell_type": "code",
   "execution_count": null,
   "id": "842ad462",
   "metadata": {},
   "outputs": [],
   "source": []
  }
 ],
 "metadata": {
  "kernelspec": {
   "display_name": "Python 3",
   "language": "python",
   "name": "python3"
  },
  "language_info": {
   "codemirror_mode": {
    "name": "ipython",
    "version": 3
   },
   "file_extension": ".py",
   "mimetype": "text/x-python",
   "name": "python",
   "nbconvert_exporter": "python",
   "pygments_lexer": "ipython3",
   "version": "3.8.8"
  }
 },
 "nbformat": 4,
 "nbformat_minor": 5
}
